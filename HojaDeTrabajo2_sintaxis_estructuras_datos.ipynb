{
 "cells": [
  {
   "attachments": {},
   "cell_type": "markdown",
   "metadata": {},
   "source": [
    "## Hoja de Trabajo # 2 - Sintaxis y Estructuras de Datos"
   ]
  },
  {
   "attachments": {},
   "cell_type": "markdown",
   "metadata": {},
   "source": [
    "### Parte #1 - (Programacion y Sintaxis)"
   ]
  },
  {
   "attachments": {},
   "cell_type": "markdown",
   "metadata": {},
   "source": [
    "1. Haga un programa en Python que reciba de par´ametro un nu´mero de segundos y que despliegue en pantalla, las horas, minutos y segundos que representan. \n",
    "Por ejemplo:\n",
    "- Si el nu´mero de segundos recibidos fuera: 2743 entonces su programa deber´ıa desplegar:\n",
    "Horas: 0, Minutos: 45 , Segundos: 43\n",
    "- Si el nu´mero de segundos recibidos fuera 5871: Horas: 1, Minutos: 37 , Segundos: 51"
   ]
  },
  {
   "cell_type": "code",
   "execution_count": 65,
   "metadata": {},
   "outputs": [
    {
     "name": "stdout",
     "output_type": "stream",
     "text": [
      "Horas: 0, Minutos: 45, Segundos: 43\n",
      "Horas: 1, Minutos: 37, Segundos: 51\n"
     ]
    }
   ],
   "source": [
    "def convertirSegundos(segundos):\n",
    "    try:\n",
    "        horas = segundos // 3600\n",
    "        minutos = (segundos % 3600) // 60\n",
    "        segundos = segundos % 60\n",
    "\n",
    "        print(f\"Horas: {horas}, Minutos: {minutos}, Segundos: {segundos}\")\n",
    "    except:\n",
    "        print('Por favor enviar un dato numerico!')\n",
    "\n",
    "convertirSegundos(2743)\n",
    "convertirSegundos(5871)"
   ]
  },
  {
   "attachments": {},
   "cell_type": "markdown",
   "metadata": {},
   "source": [
    "2. Haga una funci´on en Python que dado un nu´mero entre 1 y 20. Y un car´acter cualquiera\n",
    "despliegue cuatro patrones triangulares.\n",
    "Por ejemplo si el usuario ingresara el nu´mero 4 y el s´ımbolo * el programa deber´a desplegar\n",
    "lo siguiente:"
   ]
  },
  {
   "cell_type": "code",
   "execution_count": 66,
   "metadata": {},
   "outputs": [
    {
     "name": "stdout",
     "output_type": "stream",
     "text": [
      "a                     aaaaaaaaaaaaaaaaaaaa                     aaaaaaaaaaaaaaaaaaaa                     a\n",
      "aa                     aaaaaaaaaaaaaaaaaaa                     aaaaaaaaaaaaaaaaaaa                     aa\n",
      "aaa                     aaaaaaaaaaaaaaaaaa                     aaaaaaaaaaaaaaaaaa                     aaa\n",
      "aaaa                     aaaaaaaaaaaaaaaaa                     aaaaaaaaaaaaaaaaa                     aaaa\n",
      "aaaaa                     aaaaaaaaaaaaaaaa                     aaaaaaaaaaaaaaaa                     aaaaa\n",
      "aaaaaa                     aaaaaaaaaaaaaaa                     aaaaaaaaaaaaaaa                     aaaaaa\n",
      "aaaaaaa                     aaaaaaaaaaaaaa                     aaaaaaaaaaaaaa                     aaaaaaa\n",
      "aaaaaaaa                     aaaaaaaaaaaaa                     aaaaaaaaaaaaa                     aaaaaaaa\n",
      "aaaaaaaaa                     aaaaaaaaaaaa                     aaaaaaaaaaaa                     aaaaaaaaa\n",
      "aaaaaaaaaa                     aaaaaaaaaaa                     aaaaaaaaaaa                     aaaaaaaaaa\n",
      "aaaaaaaaaaa                     aaaaaaaaaa                     aaaaaaaaaa                     aaaaaaaaaaa\n",
      "aaaaaaaaaaaa                     aaaaaaaaa                     aaaaaaaaa                     aaaaaaaaaaaa\n",
      "aaaaaaaaaaaaa                     aaaaaaaa                     aaaaaaaa                     aaaaaaaaaaaaa\n",
      "aaaaaaaaaaaaaa                     aaaaaaa                     aaaaaaa                     aaaaaaaaaaaaaa\n",
      "aaaaaaaaaaaaaaa                     aaaaaa                     aaaaaa                     aaaaaaaaaaaaaaa\n",
      "aaaaaaaaaaaaaaaa                     aaaaa                     aaaaa                     aaaaaaaaaaaaaaaa\n",
      "aaaaaaaaaaaaaaaaa                     aaaa                     aaaa                     aaaaaaaaaaaaaaaaa\n",
      "aaaaaaaaaaaaaaaaaa                     aaa                     aaa                     aaaaaaaaaaaaaaaaaa\n",
      "aaaaaaaaaaaaaaaaaaa                     aa                     aa                     aaaaaaaaaaaaaaaaaaa\n",
      "aaaaaaaaaaaaaaaaaaaa                     a                     a                     aaaaaaaaaaaaaaaaaaaa\n"
     ]
    }
   ],
   "source": [
    "def dibujarPatron(num, caract):\n",
    "    for i in range(0, num):\n",
    "        print(caract * (i+1), ' ' * (num-1), caract * (num-i), ' ' * (num-1), caract * (num-i), ' ' * (num-1), caract * (i+1))\n",
    "\n",
    "dibujarPatron(num = 20, caract = 'a')"
   ]
  },
  {
   "attachments": {},
   "cell_type": "markdown",
   "metadata": {},
   "source": [
    "3. Haga un programa en Python que la fecha de nacimiento de una persona (puede ingresar por\n",
    "separado cada valor, es decir pedir primero d´ıa, luego mes y luego an˜o), despliegue la edad\n",
    "de la persona en an˜os, meses y d´ıas. Su resultado puede ser aproximado."
   ]
  },
  {
   "cell_type": "code",
   "execution_count": 67,
   "metadata": {},
   "outputs": [
    {
     "name": "stdout",
     "output_type": "stream",
     "text": [
      "La edad es: 25 años, 8 meses y 22 días.\n"
     ]
    }
   ],
   "source": [
    "from datetime import date\n",
    "\n",
    "def calcularEdad(fecha_nacimiento):\n",
    "\n",
    "    hoy = date.today()\n",
    "    anios = hoy.year - fecha_nacimiento.year - ((hoy.month, hoy.day) < (fecha_nacimiento.month, fecha_nacimiento.day))\n",
    "\n",
    "    meses = (hoy.month - fecha_nacimiento.month) % 12\n",
    "    dias = (hoy.day - fecha_nacimiento.day) % 31\n",
    "\n",
    "    print(f\"La edad es: {anios} años, {meses} meses y {dias} días.\")\n",
    "\n",
    "\n",
    "#PEDIR DATOS\n",
    "\n",
    "anio = int(input('Año de nacimiento: '))\n",
    "mes = int(input('Mes de nacimiento: '))\n",
    "dia = int(input('Día de nacimiento: '))\n",
    "\n",
    "fecha = date(anio, mes, dia)\n",
    "\n",
    "calcularEdad(fecha)\n"
   ]
  },
  {
   "attachments": {},
   "cell_type": "markdown",
   "metadata": {},
   "source": [
    "4. Escriba una funci´on en Python que dada una tupla de elementos (nu´meros o letras) esta se\n",
    "convierta a un string. Tomar nota del siguiente ejemplo:\n",
    "Si la entrada fuera: (10, 20, 40, 5, 70)\n",
    "La salida deber´ıa ser: 102040570"
   ]
  },
  {
   "cell_type": "code",
   "execution_count": 68,
   "metadata": {},
   "outputs": [
    {
     "name": "stdout",
     "output_type": "stream",
     "text": [
      "Conversion a String: 1020405701000\n"
     ]
    }
   ],
   "source": [
    "def tuplaToCadena(tupla):\n",
    "    cadena = ''.join(str(elemento) for elemento in tupla)\n",
    "    print(f\"Conversion a String: {cadena}\")\n",
    "\n",
    "valores = (10, 20, 40, 5, 70, 1000)\n",
    "\n",
    "tuplaToCadena(valores)"
   ]
  },
  {
   "attachments": {},
   "cell_type": "markdown",
   "metadata": {},
   "source": [
    "5. Cree un programa en Python que dada una lista de tuplas, elimine las tuplas que est´an vac´ıas.\n",
    "Tomar nota del siguiente ejemplo:\n",
    "Si la lista fuera: [(), (), (’X’,), (’a’, ’b’), (’a’, ’b’, ’c’), (’d’)]\n",
    "El resultado deber´ıa ser: [(’X’), (’a’, ’b’), (’a’, ’b’, ’c’), ’d’]"
   ]
  },
  {
   "cell_type": "code",
   "execution_count": 69,
   "metadata": {},
   "outputs": [
    {
     "data": {
      "text/plain": [
       "[('X',), ('a', 'b'), ('a', 'b', 'c'), 'd']"
      ]
     },
     "execution_count": 69,
     "metadata": {},
     "output_type": "execute_result"
    }
   ],
   "source": [
    "def eliminarTuplasVacias(lista):\n",
    "\n",
    "    lista_sin_vacios = []\n",
    "\n",
    "    for tupla in lista:\n",
    "        if tupla:\n",
    "            lista_sin_vacios.append(tupla)\n",
    "    \n",
    "    return lista_sin_vacios\n",
    "\n",
    "ejemplo = [(), (), ('X',), ('a', 'b'), ('a', 'b', 'c'), ('d')]\n",
    "\n",
    "eliminarTuplasVacias(ejemplo)\n"
   ]
  },
  {
   "attachments": {},
   "cell_type": "markdown",
   "metadata": {},
   "source": [
    "6. Cree una funci´on en Python que dada una tupla de tuplas con nu´meros, produzca una tupla\n",
    "con el promedio de cada tupla individual. Tomar nota del siguiente ejemplo:\n",
    "Si la tupla de entrada fuera: ((10, 10, 10, 12), (30, 45, 56, 45), (81, 80, 39, 32))\n",
    "El resultado deber´ıa ser: (10.5, 44, 58)"
   ]
  },
  {
   "cell_type": "code",
   "execution_count": 70,
   "metadata": {},
   "outputs": [
    {
     "name": "stdout",
     "output_type": "stream",
     "text": [
      "(10.5, 44.0, 58.0)\n"
     ]
    },
    {
     "data": {
      "text/plain": [
       "(10.5, 44.0, 58.0)"
      ]
     },
     "execution_count": 70,
     "metadata": {},
     "output_type": "execute_result"
    }
   ],
   "source": [
    "def promedioTuplas(tupla):\n",
    "\n",
    "    resultado = tuple(sum(i)/len(i) for i in tupla)\n",
    "\n",
    "    print(resultado)\n",
    "    return resultado\n",
    "\n",
    "tupla = ((10, 10, 10, 12), (30, 45, 56, 45), (81, 80, 39, 32))\n",
    "promedioTuplas(tupla)"
   ]
  },
  {
   "attachments": {},
   "cell_type": "markdown",
   "metadata": {},
   "source": [
    "7. Escribir un programa que gestione las facturas pendientes de cobro de una empresa. Las\n",
    "facturas se almacenar´an en un diccionario donde la llave de cada factura ser´a el nu´mero de\n",
    "factura (debe utilizar un numero de 4 d´ıgitos) y el valor el coste de la factura. El programa\n",
    "debe preguntar al usuario si quiere an˜adir una nueva factura, pagar una existente o terminar.\n",
    "Si desea an˜adir una nueva factura se preguntar´a por el nu´mero de factura y su coste y se\n",
    "an˜adir´a al diccionario, para confirmar que la factura se ingreso correctamente el programa\n",
    "debe desplegar el diccionario completo. Si se desea pagar una factura se preguntar´a por el\n",
    "nu´mero de factura y se eliminar´a del diccionario. Despu´es de cada operaci´on el programa\n",
    "debe mostrar en pantalla la cantidad cobrada hasta el momento y la cantidad pendiente de\n",
    "cobro. Puede utilizar otras estructuras de datos como apoyo si lo considera necesario"
   ]
  },
  {
   "cell_type": "code",
   "execution_count": 63,
   "metadata": {},
   "outputs": [
    {
     "name": "stdout",
     "output_type": "stream",
     "text": [
      "¡Factura creada con éxito! {'1111': 250.0, '2222': 250.0, '9999': 500.0}\n",
      "Seleccione una Operacion:\n",
      "1 - Añadir nueva factura\n",
      "2 - Pagar una factura\n",
      "3 - Terminar\n",
      "La factura 2222 con un monto de: 250.0 ha sido pagada con éxito.\n",
      "Cantidad cobrada hasta el momento es de: 250.0\n",
      "Cantidad pendiente de cobro: 750.0\n",
      "Seleccione una Operacion:\n",
      "1 - Añadir nueva factura\n",
      "2 - Pagar una factura\n",
      "3 - Terminar\n",
      "La factura 9999 con un monto de: 500.0 ha sido pagada con éxito.\n",
      "Cantidad cobrada hasta el momento es de: 750.0\n",
      "Cantidad pendiente de cobro: 250.0\n",
      "Seleccione una Operacion:\n",
      "1 - Añadir nueva factura\n",
      "2 - Pagar una factura\n",
      "3 - Terminar\n",
      "Saliendo del programa...\n"
     ]
    }
   ],
   "source": [
    "facturas = {}\n",
    "\n",
    "salir = True\n",
    "\n",
    "factura_montos = {'cobrado':0, 'saldo':0}\n",
    "\n",
    "while salir:\n",
    "\n",
    "    print(\"Seleccione una Operacion:\")\n",
    "    print(\"1 - Añadir nueva factura\")\n",
    "    print(\"2 - Pagar una factura\")\n",
    "    print(\"3 - Terminar\")\n",
    "\n",
    "    operacion = input(\"Ingrese número de operación: \")\n",
    "\n",
    "    if operacion == \"1\":\n",
    "        numero = input(\"Ingrese el número de factura (4 dígitos): \")\n",
    "        costo = float(input(\"Ingrese el costo de la factura: \"))\n",
    "        \n",
    "        facturas[numero] = costo\n",
    "\n",
    "        print(\"¡Factura creada con éxito!\", facturas)\n",
    "\n",
    "        factura_montos['saldo'] = factura_montos['saldo']+costo \n",
    "\n",
    "    elif operacion == \"2\":\n",
    "        numero = input(\"Ingrese el número de factura que desea pagar: \")\n",
    "        \n",
    "        if numero in facturas:\n",
    "\n",
    "            costo = facturas.pop(numero)\n",
    "\n",
    "            print(f\"La factura {numero} con un monto de: {costo} ha sido pagada con éxito.\")\n",
    "\n",
    "            factura_montos['cobrado'] = factura_montos['cobrado']+costo\n",
    "            factura_montos['saldo'] = factura_montos['saldo']-costo\n",
    "\n",
    "            print(f\"Cantidad cobrada hasta el momento es de: {factura_montos['cobrado']}\")\n",
    "            print(f\"Cantidad pendiente de cobro: {factura_montos['saldo']}\")\n",
    "\n",
    "        else:\n",
    "            print(\"Número de factura inválida.\")\n",
    "\n",
    "    elif operacion == \"3\":\n",
    "        print(\"Saliendo del programa...\")\n",
    "        salir = False\n",
    "\n",
    "    else:\n",
    "        print(\"Operación inválida, por favor ingrese un número del 1 al 3 \")"
   ]
  },
  {
   "attachments": {},
   "cell_type": "markdown",
   "metadata": {},
   "source": [
    "8. Haga una funci´on en Python, que cree un set con todas las cartas de una baraja de Pocker utilizando el siguiente formato: Tipo-Numero. Utilice las letras T para tr´eboles, C para\n",
    "corazones, P para picas y E para espadas. Para los nu´meros utilice la numeraci´on del 1 al 13. Por ejemplo E13 - ser´ıa Rey de Espadas, P01 ser´ıa As de Picas, T05 ser´ıa cinco de Tr´eboles.\n",
    "Posteriormente cree una funci´on que dado el conjunto anterior cree dos sets nuevos de cartas,\n",
    "cada conjunto debe tener una cantidad variable de elementos, puede utilizar nu´meros aleatorios enteros para definir la longitud de los conjuntos.\n",
    "Adicionalmente, deber´a calcular la probabilidad de la intersecci´on de ambos conjuntos y demuestre si son eventos independientes con la regla del producto.\n",
    "Para concluir, calcule probabilidad de la uni´on de ambos conjuntos y demuestre que se cumple\n",
    "la regla de la adici´on."
   ]
  },
  {
   "cell_type": "code",
   "execution_count": 83,
   "metadata": {},
   "outputs": [
    {
     "name": "stdout",
     "output_type": "stream",
     "text": [
      "Baraja inicial:  {'P03', 'T13', 'T10', 'T05', 'E02', 'E09', 'T04', 'T11', 'E06', 'T07', 'C10', 'P05', 'C07', 'P06', 'T12', 'C08', 'P01', 'P10', 'E10', 'E08', 'E11', 'C11', 'C06', 'C13', 'T06', 'P11', 'P04', 'C05', 'P08', 'T02', 'P13', 'E05', 'E07', 'P09', 'C09', 'P12', 'C02', 'C04', 'E04', 'T01', 'C01', 'E01', 'T08', 'C03', 'C12', 'E03', 'E12', 'E13', 'P02', 'T03', 'T09', 'P07'}\n",
      "Conjunto 1: {'P03', 'T13', 'T10', 'T05', 'E09', 'E02', 'T04', 'T11', 'E06', 'T07', 'P05', 'C10', 'C07', 'P06', 'T12', 'C08', 'P10', 'E10', 'P01', 'E08', 'C11', 'C06', 'C13', 'T06', 'P11', 'P04', 'C05', 'P08', 'P13', 'E05', 'E07', 'P09', 'C09', 'P12', 'E04', 'C04', 'C02', 'T01', 'C01', 'E01', 'C03', 'T08', 'C12', 'E03', 'E13', 'P07', 'P02', 'T09', 'T03'}\n",
      "Conjunto 2: {'P03', 'T13', 'T10', 'T05', 'E09', 'E02', 'E06', 'T07', 'P05', 'C07', 'P06', 'T12', 'C08', 'E08', 'E11', 'C06', 'C13', 'P11', 'P04', 'C05', 'P08', 'T02', 'P13', 'E05', 'E07', 'C09', 'C02', 'C04', 'E01', 'C03', 'T08', 'C12', 'E03', 'E12', 'T03', 'T09'}\n",
      "Probabilidad de intersección: 0.38823529411764707\n",
      "Probabilidad de unión: 1.0\n",
      "¿Son independientes?  No\n"
     ]
    },
    {
     "name": "stderr",
     "output_type": "stream",
     "text": [
      "C:\\Users\\LAPTOP-ERICK\\AppData\\Local\\Temp\\ipykernel_8560\\3569910215.py:22: DeprecationWarning: Sampling from a set deprecated\n",
      "since Python 3.9 and will be removed in a subsequent version.\n",
      "  conjunto1 = set(random.sample(baraja, s1))\n",
      "C:\\Users\\LAPTOP-ERICK\\AppData\\Local\\Temp\\ipykernel_8560\\3569910215.py:23: DeprecationWarning: Sampling from a set deprecated\n",
      "since Python 3.9 and will be removed in a subsequent version.\n",
      "  conjunto2 = set(random.sample(baraja, s2))\n"
     ]
    }
   ],
   "source": [
    "import random\n",
    "\n",
    "def crearBaraja():\n",
    "    \n",
    "    #UTILIZAR SET PARA ELIMINAR REPETIDOS\n",
    "    baraja = set()\n",
    "    tipos = ['T', 'C', 'P', 'E']\n",
    "\n",
    "    for tipo in tipos:\n",
    "        for numero in range(1, 14):\n",
    "            carta = tipo + str(numero).zfill(2)\n",
    "            baraja.add(carta)\n",
    "    return baraja\n",
    "\n",
    "def crearConjuntos(baraja):\n",
    "\n",
    "    long_baraja = len(baraja)\n",
    "\n",
    "    s1 = random.randint(1, long_baraja)\n",
    "    s2 = random.randint(1, long_baraja)\n",
    "\n",
    "    conjunto1 = set(random.sample(baraja, s1))\n",
    "    conjunto2 = set(random.sample(baraja, s2))\n",
    "\n",
    "    return conjunto1, conjunto2\n",
    "\n",
    "def calcularProbabilidadInterseccion(conjunto1, conjunto2):\n",
    "\n",
    "    interseccion = conjunto1.intersection(conjunto2)\n",
    "    probabilidad = len(interseccion) / (len(conjunto1) + len(conjunto2))\n",
    "\n",
    "    return probabilidad\n",
    "\n",
    "def calcularProbabilidadUnion(conjunto1, conjunto2):\n",
    "\n",
    "    union = conjunto1.union(conjunto2)\n",
    "    probabilidad = (len(conjunto1) + len(conjunto2) - len(conjunto1.intersection(conjunto2))) / len(union)\n",
    "\n",
    "    return probabilidad\n",
    "\n",
    "\n",
    "def verificarIndependientes(conjunto1, conjunto2):\n",
    "    \n",
    "    independientes = ''\n",
    "\n",
    "    if calcularProbabilidadInterseccion(conjunto1, conjunto2) == len(conjunto1.intersection(conjunto2)) / len(conjunto1) / len(conjunto2):\n",
    "        independientes = 'Si'\n",
    "    else:\n",
    "        independientes = 'No'\n",
    "\n",
    "    return independientes \n",
    "\n",
    "baraja = crearBaraja()\n",
    "conjunto1, conjunto2 = crearConjuntos(baraja)\n",
    "\n",
    "print(\"Baraja inicial: \", baraja)\n",
    "print(\"Conjunto 1:\", conjunto1)\n",
    "print(\"Conjunto 2:\", conjunto2)\n",
    "print(\"Probabilidad de intersección:\", calcularProbabilidadInterseccion(conjunto1, conjunto2))\n",
    "print(\"Probabilidad de unión:\", calcularProbabilidadUnion(conjunto1, conjunto2))\n",
    "\n",
    "independientes = verificarIndependientes(conjunto1, conjunto2)\n",
    "\n",
    "print(\"¿Son independientes? \", independientes)"
   ]
  },
  {
   "cell_type": "markdown",
   "metadata": {},
   "source": []
  }
 ],
 "metadata": {
  "kernelspec": {
   "display_name": "base",
   "language": "python",
   "name": "python3"
  },
  "language_info": {
   "codemirror_mode": {
    "name": "ipython",
    "version": 3
   },
   "file_extension": ".py",
   "mimetype": "text/x-python",
   "name": "python",
   "nbconvert_exporter": "python",
   "pygments_lexer": "ipython3",
   "version": "3.9.13"
  },
  "orig_nbformat": 4
 },
 "nbformat": 4,
 "nbformat_minor": 2
}
