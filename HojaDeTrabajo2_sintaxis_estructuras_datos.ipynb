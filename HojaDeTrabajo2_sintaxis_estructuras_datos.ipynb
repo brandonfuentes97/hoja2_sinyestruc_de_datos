{
 "cells": [
  {
   "attachments": {},
   "cell_type": "markdown",
   "metadata": {},
   "source": [
    "## Hoja de Trabajo # 2 - Sintaxis y Estructuras de Datos"
   ]
  },
  {
   "attachments": {},
   "cell_type": "markdown",
   "metadata": {},
   "source": [
    "### Parte #1 - (Programacion y Sintaxis)"
   ]
  },
  {
   "attachments": {},
   "cell_type": "markdown",
   "metadata": {},
   "source": [
    "1. Haga un programa en Python que reciba de par´ametro un nu´mero de segundos y que despliegue en pantalla, las horas, minutos y segundos que representan. \n",
    "Por ejemplo:\n",
    "- Si el nu´mero de segundos recibidos fuera: 2743 entonces su programa deber´ıa desplegar:\n",
    "Horas: 0, Minutos: 45 , Segundos: 43\n",
    "- Si el nu´mero de segundos recibidos fuera 5871: Horas: 1, Minutos: 37 , Segundos: 51"
   ]
  },
  {
   "cell_type": "code",
   "execution_count": 138,
   "metadata": {},
   "outputs": [
    {
     "name": "stdout",
     "output_type": "stream",
     "text": [
      "Horas: 0, Minutos: 45, Segundos: 43\n",
      "Horas: 1, Minutos: 37, Segundos: 51\n"
     ]
    }
   ],
   "source": [
    "def convertirSegundos(segundos):\n",
    "    try:\n",
    "        horas = segundos // 3600\n",
    "        minutos = (segundos % 3600) // 60\n",
    "        segundos = segundos % 60\n",
    "\n",
    "        print(f\"Horas: {horas}, Minutos: {minutos}, Segundos: {segundos}\")\n",
    "    except:\n",
    "        print('Por favor enviar un dato numerico!')\n",
    "\n",
    "convertirSegundos(2743)\n",
    "convertirSegundos(5871)"
   ]
  },
  {
   "attachments": {},
   "cell_type": "markdown",
   "metadata": {},
   "source": [
    "2. Haga una funci´on en Python que dado un nu´mero entre 1 y 20. Y un car´acter cualquiera\n",
    "despliegue cuatro patrones triangulares.\n",
    "Por ejemplo si el usuario ingresara el nu´mero 4 y el s´ımbolo * el programa deber´a desplegar\n",
    "lo siguiente:"
   ]
  },
  {
   "cell_type": "code",
   "execution_count": 160,
   "metadata": {},
   "outputs": [
    {
     "name": "stdout",
     "output_type": "stream",
     "text": [
      "a                     aaaaaaaaaaaaaaaaaaaa                     aaaaaaaaaaaaaaaaaaaa                     a\n",
      "aa                     aaaaaaaaaaaaaaaaaaa                     aaaaaaaaaaaaaaaaaaa                     aa\n",
      "aaa                     aaaaaaaaaaaaaaaaaa                     aaaaaaaaaaaaaaaaaa                     aaa\n",
      "aaaa                     aaaaaaaaaaaaaaaaa                     aaaaaaaaaaaaaaaaa                     aaaa\n",
      "aaaaa                     aaaaaaaaaaaaaaaa                     aaaaaaaaaaaaaaaa                     aaaaa\n",
      "aaaaaa                     aaaaaaaaaaaaaaa                     aaaaaaaaaaaaaaa                     aaaaaa\n",
      "aaaaaaa                     aaaaaaaaaaaaaa                     aaaaaaaaaaaaaa                     aaaaaaa\n",
      "aaaaaaaa                     aaaaaaaaaaaaa                     aaaaaaaaaaaaa                     aaaaaaaa\n",
      "aaaaaaaaa                     aaaaaaaaaaaa                     aaaaaaaaaaaa                     aaaaaaaaa\n",
      "aaaaaaaaaa                     aaaaaaaaaaa                     aaaaaaaaaaa                     aaaaaaaaaa\n",
      "aaaaaaaaaaa                     aaaaaaaaaa                     aaaaaaaaaa                     aaaaaaaaaaa\n",
      "aaaaaaaaaaaa                     aaaaaaaaa                     aaaaaaaaa                     aaaaaaaaaaaa\n",
      "aaaaaaaaaaaaa                     aaaaaaaa                     aaaaaaaa                     aaaaaaaaaaaaa\n",
      "aaaaaaaaaaaaaa                     aaaaaaa                     aaaaaaa                     aaaaaaaaaaaaaa\n",
      "aaaaaaaaaaaaaaa                     aaaaaa                     aaaaaa                     aaaaaaaaaaaaaaa\n",
      "aaaaaaaaaaaaaaaa                     aaaaa                     aaaaa                     aaaaaaaaaaaaaaaa\n",
      "aaaaaaaaaaaaaaaaa                     aaaa                     aaaa                     aaaaaaaaaaaaaaaaa\n",
      "aaaaaaaaaaaaaaaaaa                     aaa                     aaa                     aaaaaaaaaaaaaaaaaa\n",
      "aaaaaaaaaaaaaaaaaaa                     aa                     aa                     aaaaaaaaaaaaaaaaaaa\n",
      "aaaaaaaaaaaaaaaaaaaa                     a                     a                     aaaaaaaaaaaaaaaaaaaa\n"
     ]
    }
   ],
   "source": [
    "def dibujar_patron(num, caract):\n",
    "    for i in range(0, num):\n",
    "        print(caract * (i+1), ' ' * (num-1), caract * (num-i), ' ' * (num-1), caract * (num-i), ' ' * (num-1), caract * (i+1))\n",
    "\n",
    "dibujar_patron(num = 20, caract = 'a')"
   ]
  },
  {
   "attachments": {},
   "cell_type": "markdown",
   "metadata": {},
   "source": [
    "3. Haga un programa en Python que la fecha de nacimiento de una persona (puede ingresar por\n",
    "separado cada valor, es decir pedir primero d´ıa, luego mes y luego an˜o), despliegue la edad\n",
    "de la persona en an˜os, meses y d´ıas. Su resultado puede ser aproximado."
   ]
  },
  {
   "attachments": {},
   "cell_type": "markdown",
   "metadata": {},
   "source": [
    "4. Escriba una funci´on en Python que dada una tupla de elementos (nu´meros o letras) esta se\n",
    "convierta a un string. Tomar nota del siguiente ejemplo:\n",
    "Si la entrada fuera: (10, 20, 40, 5, 70)\n",
    "La salida deber´ıa ser: 102040570"
   ]
  },
  {
   "attachments": {},
   "cell_type": "markdown",
   "metadata": {},
   "source": [
    "5. Cree un programa en Python que dada una lista de tuplas, elimine las tuplas que est´an vac´ıas.\n",
    "Tomar nota del siguiente ejemplo:\n",
    "Si la lista fuera: [(), (), (’X’,), (’a’, ’b’), (’a’, ’b’, ’c’), (’d’)]\n",
    "El resultado deber´ıa ser: [(’X’), (’a’, ’b’), (’a’, ’b’, ’c’), ’d’]"
   ]
  },
  {
   "attachments": {},
   "cell_type": "markdown",
   "metadata": {},
   "source": [
    "6. Cree una funci´on en Python que dada una tupla de tuplas con nu´meros, produzca una tupla\n",
    "con el promedio de cada tupla individual. Tomar nota del siguiente ejemplo:\n",
    "Si la tupla de entrada fuera: ((10, 10, 10, 12), (30, 45, 56, 45), (81, 80, 39, 32))\n",
    "El resultado deber´ıa ser: (10.5, 44, 58)"
   ]
  },
  {
   "attachments": {},
   "cell_type": "markdown",
   "metadata": {},
   "source": [
    "7. Escribir un programa que gestione las facturas pendientes de cobro de una empresa. Las\n",
    "facturas se almacenar´an en un diccionario donde la llave de cada factura ser´a el nu´mero de\n",
    "factura (debe utilizar un numero de 4 d´ıgitos) y el valor el coste de la factura. El programa\n",
    "debe preguntar al usuario si quiere an˜adir una nueva factura, pagar una existente o terminar.\n",
    "Si desea an˜adir una nueva factura se preguntar´a por el nu´mero de factura y su coste y se\n",
    "an˜adir´a al diccionario, para confirmar que la factura se ingreso correctamente el programa\n",
    "debe desplegar el diccionario completo. Si se desea pagar una factura se preguntar´a por el\n",
    "nu´mero de factura y se eliminar´a del diccionario. Despu´es de cada operaci´on el programa\n",
    "debe mostrar en pantalla la cantidad cobrada hasta el momento y la cantidad pendiente de\n",
    "cobro. Puede utilizar otras estructuras de datos como apoyo si lo considera necesario"
   ]
  },
  {
   "attachments": {},
   "cell_type": "markdown",
   "metadata": {},
   "source": [
    "8. Haga una funci´on en Python, que cree un set con todas las cartas de una baraja de Pocker utilizando el siguiente formato: Tipo-Numero. Utilice las letras T para tr´eboles, C para\n",
    "corazones, P para picas y E para espadas. Para los nu´meros utilice la numeraci´on del 1 al 13. Por ejemplo E13 - ser´ıa Rey de Espadas, P01 ser´ıa As de Picas, T05 ser´ıa cinco de Tr´eboles.\n",
    "Posteriormente cree una funci´on que dado el conjunto anterior cree dos sets nuevos de cartas,\n",
    "cada conjunto debe tener una cantidad variable de elementos, puede utilizar nu´meros aleatorios enteros para definir la longitud de los conjuntos.\n",
    "Adicionalmente, deber´a calcular la probabilidad de la intersecci´on de ambos conjuntos y demuestre si son eventos independientes con la regla del producto.\n",
    "Para concluir, calcule probabilidad de la uni´on de ambos conjuntos y demuestre que se cumple\n",
    "la regla de la adici´on."
   ]
  },
  {
   "cell_type": "markdown",
   "metadata": {},
   "source": []
  }
 ],
 "metadata": {
  "language_info": {
   "name": "python"
  },
  "orig_nbformat": 4
 },
 "nbformat": 4,
 "nbformat_minor": 2
}
